{
 "cells": [
  {
   "cell_type": "code",
   "execution_count": 1,
   "id": "f27d4171",
   "metadata": {},
   "outputs": [],
   "source": [
    "import cv2\n",
    "import matplotlib.pyplot as plt\n",
    "import numpy as np\n",
    "%matplotlib inline\n",
    "import tensorflow as tf\n",
    "import os"
   ]
  },
  {
   "cell_type": "code",
   "execution_count": 2,
   "id": "dcd8c741",
   "metadata": {},
   "outputs": [],
   "source": [
    "from gtts import gTTS"
   ]
  },
  {
   "cell_type": "code",
   "execution_count": 3,
   "id": "118302a4",
   "metadata": {},
   "outputs": [],
   "source": [
    "L = [\"CALM DOWN\",\"DONT BE DISGUSTED\",\"THERE IS NOTHING TO BE AFRAID OF\",\"ALWAYS REMAIN HAPPY AND ENJOY YOUR DAY\",\"CHEER UP, DONT BE SAD\",\"WHY ARE U SO SURPRISED\",\"THAT'S THE PERFECT EXPRESSION\"]"
   ]
  },
  {
   "cell_type": "code",
   "execution_count": 4,
   "id": "efe954a9",
   "metadata": {},
   "outputs": [],
   "source": [
    "tts = gTTS(L[0])\n",
    "tts1 = gTTS(L[1])\n",
    "tts2 = gTTS(L[2])\n",
    "tts3 = gTTS(L[3])\n",
    "tts4 = gTTS(L[4])\n",
    "tts5 = gTTS(L[5])\n",
    "tts6 = gTTS(L[6])"
   ]
  },
  {
   "cell_type": "code",
   "execution_count": 5,
   "id": "b3e16c10",
   "metadata": {},
   "outputs": [],
   "source": [
    "tts.save('h1.mp3')\n",
    "tts1.save('h2.mp3')\n",
    "tts2.save('h3.mp3')\n",
    "tts3.save('h4.mp3')\n",
    "tts4.save('h5.mp3')\n",
    "tts5.save('h6.mp3')\n",
    "tts6.save('h7.mp3')"
   ]
  },
  {
   "cell_type": "code",
   "execution_count": 6,
   "id": "b6d127f0",
   "metadata": {},
   "outputs": [
    {
     "data": {
      "text/plain": [
       "0"
      ]
     },
     "execution_count": 6,
     "metadata": {},
     "output_type": "execute_result"
    }
   ],
   "source": [
    "os.system(\"h1.mp3\")"
   ]
  },
  {
   "cell_type": "code",
   "execution_count": 7,
   "id": "bb9d798b",
   "metadata": {},
   "outputs": [],
   "source": [
    "face_cascade=cv2.CascadeClassifier(cv2.data.haarcascades + 'haarcascade_frontalface_default.xml')"
   ]
  },
  {
   "cell_type": "code",
   "execution_count": 8,
   "id": "b4013b15",
   "metadata": {},
   "outputs": [],
   "source": [
    "def detect_face(img):\n",
    "    face_img = img.copy()\n",
    "    face_rects = face_cascade.detectMultiScale(face_img,scaleFactor=1.2,minNeighbors=5)\n",
    "    \n",
    "    for(x,y,w,h) in face_rects:\n",
    "        cv2.rectangle(face_img,(x,y),(x+w,y+h),(255,255,255),thickness=5)\n",
    "        return face_img"
   ]
  },
  {
   "cell_type": "code",
   "execution_count": 9,
   "id": "657a6c3a",
   "metadata": {},
   "outputs": [],
   "source": [
    "L = [\"CALM DOWN\",\"DONT BE DISGUSTED\",\"THERE IS NOTHING TO BE AFRAID OF\",\"ALWAYS REMAIN HAPPY AND ENJOY YOUR DAY\",\"CHEER UP, DONT BE SAD\",\"WHY ARE U SO SURPRISED\",\"THAT'S THE PERFECT EXPRESSION\"]"
   ]
  },
  {
   "cell_type": "code",
   "execution_count": 10,
   "id": "a1a6543b",
   "metadata": {},
   "outputs": [
    {
     "name": "stdout",
     "output_type": "stream",
     "text": [
      "Model: \"sequential\"\n",
      "_________________________________________________________________\n",
      "Layer (type)                 Output Shape              Param #   \n",
      "=================================================================\n",
      "flatten (Flatten)            (None, 2304)              0         \n",
      "_________________________________________________________________\n",
      "input_2 (InputLayer)         multiple                  0         \n",
      "_________________________________________________________________\n",
      "dense (Dense)                (None, 1024)              2360320   \n",
      "_________________________________________________________________\n",
      "batch_normalization_94 (Batc (None, 1024)              4096      \n",
      "_________________________________________________________________\n",
      "activation_94 (Activation)   (None, 1024)              0         \n",
      "_________________________________________________________________\n",
      "dropout (Dropout)            (None, 1024)              0         \n",
      "_________________________________________________________________\n",
      "dense_1 (Dense)              (None, 512)               524800    \n",
      "_________________________________________________________________\n",
      "batch_normalization_95 (Batc (None, 512)               2048      \n",
      "_________________________________________________________________\n",
      "activation_95 (Activation)   (None, 512)               0         \n",
      "_________________________________________________________________\n",
      "dropout_1 (Dropout)          (None, 512)               0         \n",
      "_________________________________________________________________\n",
      "dense_2 (Dense)              (None, 512)               262656    \n",
      "_________________________________________________________________\n",
      "batch_normalization_96 (Batc (None, 512)               2048      \n",
      "_________________________________________________________________\n",
      "activation_96 (Activation)   (None, 512)               0         \n",
      "_________________________________________________________________\n",
      "dropout_2 (Dropout)          (None, 512)               0         \n",
      "_________________________________________________________________\n",
      "dense_3 (Dense)              (None, 7)                 3591      \n",
      "_________________________________________________________________\n",
      "activation_97 (Activation)   (None, 7)                 0         \n",
      "=================================================================\n",
      "Total params: 3,159,559\n",
      "Trainable params: 3,155,463\n",
      "Non-trainable params: 4,096\n",
      "_________________________________________________________________\n"
     ]
    }
   ],
   "source": [
    "# Recreate the exact same model, including its weights and the optimizer\n",
    "new_model = tf.keras.models.load_model('my_model.h5')\n",
    "\n",
    "# Show the model architecture\n",
    "new_model.summary()"
   ]
  },
  {
   "cell_type": "code",
   "execution_count": 11,
   "id": "56d60003",
   "metadata": {},
   "outputs": [],
   "source": [
    "width = 48\n",
    "height = 48"
   ]
  },
  {
   "cell_type": "code",
   "execution_count": null,
   "id": "6e3aeb37",
   "metadata": {},
   "outputs": [],
   "source": [
    "video_capture = cv2.VideoCapture(0)\n",
    "# video_capture.set(cv2.CAP_PROP_FRAME_WIDTH,48);\n",
    "# video_capture.set(cv2.CAP_PROP_FRAME_HEIGHT,48);\n",
    "while True:\n",
    "    # Capture frame-by-frame\n",
    "    ret, frames = video_capture.read()\n",
    "    gray = cv2.cvtColor(frames, cv2.COLOR_BGR2GRAY)\n",
    "#     prediction = new_model.predict(gray)\n",
    "#     print(np.argmax(prediction))\n",
    "\n",
    "    faces = face_cascade.detectMultiScale(\n",
    "        gray,\n",
    "        scaleFactor=1.1,\n",
    "        minNeighbors=5,\n",
    "        minSize=(30, 30),\n",
    "        flags=cv2.CASCADE_SCALE_IMAGE\n",
    "    )\n",
    "    # Draw a rectangle around the faces\n",
    "    for (x, y, w, h) in faces:\n",
    "        cv2.rectangle(frames, (x, y), (x+w, y+h), (0, 255, 0), 2)\n",
    "    # Display the resulting frame\n",
    "    cv2.imshow('Video', frames)\n",
    "    if cv2.waitKey(1) & 0xFF == ord('q'):\n",
    "        break"
   ]
  },
  {
   "cell_type": "code",
   "execution_count": null,
   "id": "a588c2e9",
   "metadata": {},
   "outputs": [],
   "source": [
    "os.system(\"h4.mp3\")"
   ]
  },
  {
   "cell_type": "code",
   "execution_count": null,
   "id": "28be1271",
   "metadata": {},
   "outputs": [],
   "source": []
  }
 ],
 "metadata": {
  "kernelspec": {
   "display_name": "Python 3",
   "language": "python",
   "name": "python3"
  },
  "language_info": {
   "codemirror_mode": {
    "name": "ipython",
    "version": 3
   },
   "file_extension": ".py",
   "mimetype": "text/x-python",
   "name": "python",
   "nbconvert_exporter": "python",
   "pygments_lexer": "ipython3",
   "version": "3.8.8"
  }
 },
 "nbformat": 4,
 "nbformat_minor": 5
}
